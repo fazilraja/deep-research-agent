{
 "cells": [
  {
   "cell_type": "code",
   "execution_count": 8,
   "metadata": {},
   "outputs": [
    {
     "data": {
      "text/plain": [
       "True"
      ]
     },
     "execution_count": 8,
     "metadata": {},
     "output_type": "execute_result"
    }
   ],
   "source": [
    "from mirascope import llm, prompt_template\n",
    "from typing import Literal\n",
    "from pydantic import BaseModel, Field\n",
    "import os \n",
    "from dotenv import load_dotenv\n",
    "from datetime import datetime\n",
    "\n",
    "load_dotenv()\n",
    "    "
   ]
  },
  {
   "cell_type": "code",
   "execution_count": 5,
   "metadata": {},
   "outputs": [
    {
     "name": "stdout",
     "output_type": "stream",
     "text": [
      "The Indiana Pacers won game 3 of the NBA Finals against the Oklahoma City Thunder with a score of 116-107. The game took place on June 11, 2025, in Indianapolis.\n",
      "\n"
     ]
    }
   ],
   "source": [
    "@llm.call(provider='google', model='gemini-2.0-flash')\n",
    "@prompt_template('You are a helpful assistant that can answer questions about the web. Current date: {current_date}. Question: {question}')\n",
    "def answer_question_using_search(question: str):\n",
    "    \"\"\"\n",
    "    Answer questions using Google's built-in search capability with dynamic configuration.\n",
    "    \"\"\"\n",
    "    return {\n",
    "        \"call_params\": {\"config\": {\"tools\": [{\"google_search\": {}}]}},\n",
    "        \"computed_fields\": {\"current_date\": datetime.now().strftime(\"%Y-%m-%d %H:%M:%S\")}\n",
    "    }\n",
    "    \n",
    "response = answer_question_using_search('Who won game 3 of the NBA finals?')\n",
    "print(response.content)"
   ]
  },
  {
   "cell_type": "code",
   "execution_count": 11,
   "metadata": {},
   "outputs": [
    {
     "ename": "TypeError",
     "evalue": "Completions.create() got an unexpected keyword argument 'config'",
     "output_type": "error",
     "traceback": [
      "\u001b[31m---------------------------------------------------------------------------\u001b[39m",
      "\u001b[31mTypeError\u001b[39m                                 Traceback (most recent call last)",
      "\u001b[36mCell\u001b[39m\u001b[36m \u001b[39m\u001b[32mIn[11]\u001b[39m\u001b[32m, line 1\u001b[39m\n\u001b[32m----> \u001b[39m\u001b[32m1\u001b[39m override_response = \u001b[43mllm\u001b[49m\u001b[43m.\u001b[49m\u001b[43moverride\u001b[49m\u001b[43m(\u001b[49m\u001b[43m \u001b[49m\n\u001b[32m      2\u001b[39m \u001b[43m    \u001b[49m\u001b[43manswer_question_using_search\u001b[49m\u001b[43m,\u001b[49m\u001b[43m \u001b[49m\n\u001b[32m      3\u001b[39m \u001b[43m    \u001b[49m\u001b[43mprovider\u001b[49m\u001b[43m=\u001b[49m\u001b[33;43m\"\u001b[39;49m\u001b[33;43mopenai\u001b[39;49m\u001b[33;43m\"\u001b[39;49m\u001b[43m,\u001b[49m\u001b[43m \u001b[49m\n\u001b[32m      4\u001b[39m \u001b[43m    \u001b[49m\u001b[43mmodel\u001b[49m\u001b[43m=\u001b[49m\u001b[33;43m\"\u001b[39;49m\u001b[33;43mgpt-4.1\u001b[39;49m\u001b[33;43m\"\u001b[39;49m\u001b[43m,\u001b[49m\u001b[43m \u001b[49m\n\u001b[32m      5\u001b[39m \u001b[43m    \u001b[49m\u001b[43mcall_params\u001b[49m\u001b[43m=\u001b[49m\u001b[43m{\u001b[49m\u001b[33;43m\"\u001b[39;49m\u001b[33;43mtemperature\u001b[39;49m\u001b[33;43m\"\u001b[39;49m\u001b[43m:\u001b[49m\u001b[43m \u001b[49m\u001b[32;43m0.7\u001b[39;49m\u001b[43m}\u001b[49m\u001b[43m,\u001b[49m\u001b[43m \u001b[49m\n\u001b[32m      6\u001b[39m \u001b[43m)\u001b[49m\u001b[43m(\u001b[49m\u001b[33;43m\"\u001b[39;49m\u001b[33;43m'\u001b[39;49m\u001b[33;43mWho won game 3 of the NBA finals?\u001b[39;49m\u001b[33;43m'\u001b[39;49m\u001b[33;43m\"\u001b[39;49m\u001b[43m)\u001b[49m \n",
      "\u001b[36mFile \u001b[39m\u001b[32m~/projects/fullstack-search-agent/backend/.venv/lib/python3.11/site-packages/mirascope/llm/_override.py:3637\u001b[39m, in \u001b[36moverride.<locals>.inner\u001b[39m\u001b[34m(*args, **kwargs)\u001b[39m\n\u001b[32m   3612\u001b[39m \u001b[38;5;129m@wraps\u001b[39m(provider_agnostic_call)\n\u001b[32m   3613\u001b[39m \u001b[38;5;28;01mdef\u001b[39;00m\u001b[38;5;250m \u001b[39m\u001b[34minner\u001b[39m(\n\u001b[32m   3614\u001b[39m     *args: _P.args, **kwargs: _P.kwargs\n\u001b[32m   (...)\u001b[39m\u001b[32m   3624\u001b[39m ):\n\u001b[32m   3625\u001b[39m     \u001b[38;5;66;03m# THIS IS NOT TYPE SAFE BUT WILL WORK SO WE IGNORE\u001b[39;00m\n\u001b[32m   3626\u001b[39m     \u001b[38;5;28;01mwith\u001b[39;00m _context(\n\u001b[32m   3627\u001b[39m         provider=provider,\n\u001b[32m   3628\u001b[39m         model=model,\n\u001b[32m   (...)\u001b[39m\u001b[32m   3635\u001b[39m         call_params=call_params,\n\u001b[32m   3636\u001b[39m     ):\n\u001b[32m-> \u001b[39m\u001b[32m3637\u001b[39m         \u001b[38;5;28;01mreturn\u001b[39;00m \u001b[43mprovider_agnostic_call\u001b[49m\u001b[43m(\u001b[49m\u001b[43m*\u001b[49m\u001b[43margs\u001b[49m\u001b[43m,\u001b[49m\u001b[43m \u001b[49m\u001b[43m*\u001b[49m\u001b[43m*\u001b[49m\u001b[43mkwargs\u001b[49m\u001b[43m)\u001b[49m\n",
      "\u001b[36mFile \u001b[39m\u001b[32m~/projects/fullstack-search-agent/backend/.venv/lib/python3.11/site-packages/mirascope/llm/_call.py:346\u001b[39m, in \u001b[36m_call.<locals>.wrapper.<locals>.inner\u001b[39m\u001b[34m(*args, **kwargs)\u001b[39m\n\u001b[32m    343\u001b[39m decorated = provider_call(**call_kwargs)(fn)\n\u001b[32m    345\u001b[39m \u001b[38;5;66;03m# Call the decorated function and wrap the result\u001b[39;00m\n\u001b[32m--> \u001b[39m\u001b[32m346\u001b[39m result = \u001b[43mdecorated\u001b[49m\u001b[43m(\u001b[49m\u001b[43m*\u001b[49m\u001b[43margs\u001b[49m\u001b[43m,\u001b[49m\u001b[43m \u001b[49m\u001b[43m*\u001b[49m\u001b[43m*\u001b[49m\u001b[43mkwargs\u001b[49m\u001b[43m)\u001b[49m\n\u001b[32m    347\u001b[39m \u001b[38;5;28;01mreturn\u001b[39;00m _wrap_result(result)\n",
      "\u001b[36mFile \u001b[39m\u001b[32m~/projects/fullstack-search-agent/backend/.venv/lib/python3.11/site-packages/mirascope/core/base/_create.py:232\u001b[39m, in \u001b[36mcreate_factory.<locals>.decorator.<locals>.inner\u001b[39m\u001b[34m(*args, **kwargs)\u001b[39m\n\u001b[32m    219\u001b[39m create, prompt_template, messages, tool_types, call_kwargs = setup_call(  \u001b[38;5;66;03m# pyright: ignore [reportCallIssue]\u001b[39;00m\n\u001b[32m    220\u001b[39m     model=model,\n\u001b[32m    221\u001b[39m     client=client,  \u001b[38;5;66;03m# pyright: ignore [reportArgumentType]\u001b[39;00m\n\u001b[32m   (...)\u001b[39m\u001b[32m    229\u001b[39m     stream=\u001b[38;5;28;01mFalse\u001b[39;00m,\n\u001b[32m    230\u001b[39m )\n\u001b[32m    231\u001b[39m start_time = datetime.datetime.now().timestamp() * \u001b[32m1000\u001b[39m\n\u001b[32m--> \u001b[39m\u001b[32m232\u001b[39m response = \u001b[43mcreate\u001b[49m\u001b[43m(\u001b[49m\u001b[43mstream\u001b[49m\u001b[43m=\u001b[49m\u001b[38;5;28;43;01mFalse\u001b[39;49;00m\u001b[43m,\u001b[49m\u001b[43m \u001b[49m\u001b[43m*\u001b[49m\u001b[43m*\u001b[49m\u001b[43mcall_kwargs\u001b[49m\u001b[43m)\u001b[49m\n\u001b[32m    233\u001b[39m end_time = datetime.datetime.now().timestamp() * \u001b[32m1000\u001b[39m\n\u001b[32m    234\u001b[39m output = TCallResponse(  \u001b[38;5;66;03m# pyright: ignore [reportCallIssue]\u001b[39;00m\n\u001b[32m    235\u001b[39m     metadata=get_metadata(fn, dynamic_config),\n\u001b[32m    236\u001b[39m     response=response,\n\u001b[32m   (...)\u001b[39m\u001b[32m    246\u001b[39m     end_time=end_time,\n\u001b[32m    247\u001b[39m )\n",
      "\u001b[36mFile \u001b[39m\u001b[32m~/projects/fullstack-search-agent/backend/.venv/lib/python3.11/site-packages/mirascope/core/base/_utils/_get_create_fn_or_async_create_fn.py:135\u001b[39m, in \u001b[36mget_create_fn.<locals>.create_or_stream\u001b[39m\u001b[34m(stream, **kwargs)\u001b[39m\n\u001b[32m    131\u001b[39m         \u001b[38;5;28;01myield from\u001b[39;00m generator\n\u001b[32m    133\u001b[39m     \u001b[38;5;28;01mreturn\u001b[39;00m _stream()\n\u001b[32m--> \u001b[39m\u001b[32m135\u001b[39m \u001b[38;5;28;01mreturn\u001b[39;00m cast(_NonStreamedResponse, \u001b[43msync_func\u001b[49m\u001b[43m(\u001b[49m\u001b[43m*\u001b[49m\u001b[43m*\u001b[49m\u001b[43mkwargs\u001b[49m\u001b[43m)\u001b[49m)\n",
      "\u001b[36mFile \u001b[39m\u001b[32m~/projects/fullstack-search-agent/backend/.venv/lib/python3.11/site-packages/openai/_utils/_utils.py:287\u001b[39m, in \u001b[36mrequired_args.<locals>.inner.<locals>.wrapper\u001b[39m\u001b[34m(*args, **kwargs)\u001b[39m\n\u001b[32m    285\u001b[39m             msg = \u001b[33mf\u001b[39m\u001b[33m\"\u001b[39m\u001b[33mMissing required argument: \u001b[39m\u001b[38;5;132;01m{\u001b[39;00mquote(missing[\u001b[32m0\u001b[39m])\u001b[38;5;132;01m}\u001b[39;00m\u001b[33m\"\u001b[39m\n\u001b[32m    286\u001b[39m     \u001b[38;5;28;01mraise\u001b[39;00m \u001b[38;5;167;01mTypeError\u001b[39;00m(msg)\n\u001b[32m--> \u001b[39m\u001b[32m287\u001b[39m \u001b[38;5;28;01mreturn\u001b[39;00m \u001b[43mfunc\u001b[49m\u001b[43m(\u001b[49m\u001b[43m*\u001b[49m\u001b[43margs\u001b[49m\u001b[43m,\u001b[49m\u001b[43m \u001b[49m\u001b[43m*\u001b[49m\u001b[43m*\u001b[49m\u001b[43mkwargs\u001b[49m\u001b[43m)\u001b[49m\n",
      "\u001b[31mTypeError\u001b[39m: Completions.create() got an unexpected keyword argument 'config'"
     ]
    }
   ],
   "source": [
    "override_response = llm.override( \n",
    "    answer_question_using_search, \n",
    "    provider=\"openai\", \n",
    "    model=\"gpt-4.1\", \n",
    "    call_params={\"tools\":[{\"type\": \"web_search_preview\"}]}, \n",
    ")(\"'Who won game 3 of the NBA finals?'\") "
   ]
  }
 ],
 "metadata": {
  "kernelspec": {
   "display_name": ".venv",
   "language": "python",
   "name": "python3"
  },
  "language_info": {
   "codemirror_mode": {
    "name": "ipython",
    "version": 3
   },
   "file_extension": ".py",
   "mimetype": "text/x-python",
   "name": "python",
   "nbconvert_exporter": "python",
   "pygments_lexer": "ipython3",
   "version": "3.11.12"
  }
 },
 "nbformat": 4,
 "nbformat_minor": 2
}
